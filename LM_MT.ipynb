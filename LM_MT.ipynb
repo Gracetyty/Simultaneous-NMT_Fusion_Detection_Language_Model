{
 "cells": [
  {
   "cell_type": "code",
   "execution_count": null,
   "metadata": {},
   "outputs": [],
   "source": [
    "from transformers import MarianMTModel, MarianTokenizer\n",
    "\n",
    "def compare_translation(source_text, target_text, models):\n",
    "    results = {}\n",
    "    \n",
    "    for model_name, model in models.items():\n",
    "        tokenizer = model['tokenizer']\n",
    "        model = model['model']\n",
    "        \n",
    "        # Tokenize the source and target text\n",
    "        source_tokens = tokenizer.encode(source_text, add_special_tokens=False, return_tensors='pt')\n",
    "        \n",
    "        # Translate the source text using the model\n",
    "        translated_tokens = model.generate(source_tokens)\n",
    "\n",
    "        # Decode the translated tokens\n",
    "        translated_text = tokenizer.decode(translated_tokens[0], skip_special_tokens=True)\n",
    "        \n",
    "        # Calculate the BLEU score\n",
    "        bleu_score = nltk.translate.bleu_score.sentence_bleu([target_text.split()], translated_text.split())\n",
    "        \n",
    "        results[model_name] = bleu_score\n",
    "    \n",
    "    return results\n",
    "\n",
    "# Define the source and target text\n",
    "source_text = \"I am hungry.\"\n",
    "target_text = \"J'ai faim.\"\n",
    "\n",
    "# Initialize the models and their respective tokenizer\n",
    "models = {\n",
    "    'Opus-MT-en-fr': {\n",
    "        'model': MarianMTModel.from_pretrained('Helsinki-NLP/opus-mt-en-fr'),\n",
    "        'tokenizer': MarianTokenizer.from_pretrained('Helsinki-NLP/opus-mt-en-fr')\n",
    "    },\n",
    "    'Hugging Face MT Model': {\n",
    "        'model': MarianMTModel.from_pretrained('Helsinki-NLP/opus-mt-en-de'),\n",
    "        'tokenizer': MarianTokenizer.from_pretrained('Helsinki-NLP/opus-mt-en-de')\n",
    "    }\n",
    "}\n",
    "\n",
    "# Compare the translation quality\n",
    "results = compare_translation(source_text, target_text, models)\n",
    "\n",
    "# Print the results\n",
    "for model_name, score in results.items():\n",
    "    print(f\"{model_name} BLEU score: {score}\")\n"
   ]
  },
  {
   "cell_type": "code",
   "execution_count": null,
   "metadata": {},
   "outputs": [],
   "source": []
  }
 ],
 "metadata": {
  "language_info": {
   "name": "python"
  }
 },
 "nbformat": 4,
 "nbformat_minor": 2
}
